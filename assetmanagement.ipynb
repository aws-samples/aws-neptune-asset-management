{
 "cells": [
  {
   "cell_type": "markdown",
   "metadata": {},
   "source": [
    "# Connected Platform - Neptune Asset Management\n",
    "\n",
    "In this workshop, you will first build an asset management platform using AWS Neptune. Then, you will query the platform to gain insightful relationships that can drive additional sales revenue.\n",
    "\n",
    "The following fictatious scenario is modeled in AWS Neptune:\n",
    "\n",
    "John is a scientist and an employee of ACME Lab Corporation .  John has purchased an Ultra-Low Temperature (ULT) freezer, DNA Sequencer (QuantStudio), and a master mix regent to perform his experiments.  As John works with these instruments, his freezer door malfunctions.  ACME corporation has a ‘silver’ tier contract and notifies the manufacturer that the freezer door has malfunctioned.  The manufacturer of the freezer assigns a service ticket to Joe - a knowledgeable service technician. \n",
    "  "
   ]
  },
  {
   "cell_type": "markdown",
   "metadata": {},
   "source": [
    "The fictatious scenario described can be modeled in AWS Neptune:"
   ]
  },
  {
   "cell_type": "markdown",
   "metadata": {},
   "source": [
    "![Connected platform](https://serversless-immersion-api-gateway.s3.amazonaws.com/assetmangement.png)"
   ]
  },
  {
   "cell_type": "markdown",
   "metadata": {},
   "source": [
    "## Driving Sales Revenue \n",
    "Once the fictatious scenario above is modeled, an analyst can drive additional sales revenue by asking neptune the following quetions:\n",
    "1. Who are the top customers that would benefit from a ‘gold’ service contract?  \n",
    "2. What other forensic labs can we target to purchase a DNA Sequencer ?"
   ]
  },
  {
   "cell_type": "markdown",
   "metadata": {},
   "source": [
    "# Part 1: Building an Asset Management Platform\n",
    "\n",
    "**Pre-requisites**\n",
    "This workshop assumes the following:\n",
    "1. you have successfully created a neptune cluster\n",
    "2. You are running this notebook from a connected neptune workbench."
   ]
  },
  {
   "cell_type": "markdown",
   "metadata": {},
   "source": [
    "As a first step, let's connect to our neptune cluster and make sure the stauts is healthy."
   ]
  },
  {
   "cell_type": "code",
   "execution_count": null,
   "metadata": {},
   "outputs": [],
   "source": [
    "%status"
   ]
  },
  {
   "cell_type": "markdown",
   "metadata": {},
   "source": [
    "## Adding Vertices and Edges in Neptune\n",
    "In AWS Neptune, you can use Gremline or SPARQL.  In this workshop, you will build the asset management using Gremline. \n",
    "\n",
    "In Gremline, a graph is a structure composed of vertices and edges. Both vertices and edges can have an arbitrary number of key/value-pairs called properties.  Vertice are nodes that model a specific object, such as a person, place or event.  Edges are the relationships that exists between the vertices in a graph.\n",
    "\n",
    "The following sections add Vertices and Edges to the neptune graph"
   ]
  },
  {
   "cell_type": "markdown",
   "metadata": {},
   "source": [
    "### Adding Vertices\n",
    "First, we will add all the vertices that model sale and service entities. "
   ]
  },
  {
   "cell_type": "markdown",
   "metadata": {},
   "source": [
    "1. **Add ACME Company Vertex**\n",
    "<br/> Start by adding ACME corporation vertex.\n",
    "<br/> ACME is of **type** organization and has a vertex id of 1 and a name \"ACME Corporation\""
   ]
  },
  {
   "cell_type": "code",
   "execution_count": null,
   "metadata": {},
   "outputs": [],
   "source": [
    "%%gremlin\n",
    "\n",
    "g.addV('organization').property(id, '1').property('name', 'ACME Corporation')"
   ]
  },
  {
   "cell_type": "markdown",
   "metadata": {},
   "source": [
    "2. **Add customer vertex with properties** \n",
    "<br/>John  is a scientist who is a customer.  John's location and name is captured as properties.  "
   ]
  },
  {
   "cell_type": "code",
   "execution_count": null,
   "metadata": {
    "scrolled": true
   },
   "outputs": [],
   "source": [
    "%%gremlin\n",
    "\n",
    "g.addV('customer').property(id, '2').property('name', 'John').property('location','123 ACME Drive. Los Angeles, CA 90210')"
   ]
  },
  {
   "cell_type": "markdown",
   "metadata": {},
   "source": [
    "3. **Add all other vertexes.**\n",
    "<br/> The following vertecies are added with their associated properties\n",
    "<br/> Joe - Service Technican.  Properties include service review score and physical location.\n",
    "<br/> QuantStudio - lab instrument\n",
    "<br/> Master Mix - regent used for expiermentation\n",
    "<br/> Freezer - labratory freezer\n",
    "<br/> V-Drive - Freezer part\n",
    "<br/> ticket - service ticket to repair freezer\n",
    "<br/> Contract - service contract for ACME corporation.\n"
   ]
  },
  {
   "cell_type": "code",
   "execution_count": null,
   "metadata": {
    "scrolled": true
   },
   "outputs": [],
   "source": [
    "%%gremlin\n",
    "g.addV('technician').property(id, '3').property('name', 'Joe').property('score', '4').property('location', 'Los Angeles').next()\n",
    "g.addV('device').property(id, '4').property('name', 'QuantStudio').property('status', 'online').property('defectCount', '0').next()\n",
    "g.addV('consumable').property(id, '5').property('name', 'MasterMix').property('orderdate', '01/06/2020').property('count', '4').next()\n",
    "g.addV('device').property(id, '6').property('name', 'Freezer').property('status', 'online').property('defectCount', '0').next()\n",
    "g.addV('part').property(id, '7').property('name', 'VDrive').property('status', 'online').property('type', 'nema 5-20').next()\n",
    "g.addV('contract').property(id, '8').property('name', 'service contract').property('type', 'silver').next()\n",
    "g.addV('workorder').property(id, '9').property('name', 'ticket')"
   ]
  },
  {
   "cell_type": "markdown",
   "metadata": {},
   "source": [
    "### Adding Edges"
   ]
  },
  {
   "cell_type": "markdown",
   "metadata": {},
   "source": [
    "Next we will add the edges that represent the relationships between sale and service data <br/>\n",
    "\n",
    "**Create bi-directional relationship (edges) between John and ACME.**\n",
    "<br/>Since John is an employee of ACME, we can create an edge to depict that John works at ACME.  In the same manner, ACME employs John.  "
   ]
  },
  {
   "cell_type": "code",
   "execution_count": null,
   "metadata": {},
   "outputs": [],
   "source": [
    "%%gremlin\n",
    "\n",
    "g.V('1').addE('employs').to(g.V('2')).next()\n",
    "g.V('2').addE('worksAt').to(g.V('1'))"
   ]
  },
  {
   "cell_type": "markdown",
   "metadata": {},
   "source": [
    "\n",
    "Let's add all the other relationships:\n",
    "\n",
    "5. **Adding relationships**\n",
    "<br/> ACME corporation has a service contract\n",
    "<br/> John has purchased a QuantStudio, Master Mixm, and freezer\n",
    "<br/> Master Mix is a regent of QuantStudio\n",
    "<br/> The freezer has a part - VDrive "
   ]
  },
  {
   "cell_type": "code",
   "execution_count": null,
   "metadata": {},
   "outputs": [],
   "source": [
    "%%gremlin\n",
    "\n",
    "g.V('1').addE('support').to(g.V('8')).next()\n",
    "g.V('2').addE('purchased').to(g.V('4')).next()\n",
    "g.V('2').addE('purchased').to(g.V('5')).next()\n",
    "g.V('2').addE('purchased').to(g.V('6')).next()\n",
    "g.V('5').addE('regent').to(g.V('4')).next()\n",
    "g.V('6').addE('part').to(g.V('7')).next()"
   ]
  },
  {
   "cell_type": "markdown",
   "metadata": {},
   "source": [
    "### Updating Neptune"
   ]
  },
  {
   "cell_type": "markdown",
   "metadata": {},
   "source": [
    "Now, let's assume that the VDrive part of the freezer has failed.  We need to change the status of the **freezer** to offline and increment the defect count."
   ]
  },
  {
   "cell_type": "code",
   "execution_count": null,
   "metadata": {},
   "outputs": [],
   "source": [
    "%%gremlin\n",
    "g.V('6').property(single, 'status', 'offline').next()\n",
    "g.V('6').property(single, 'defectCount', '4')"
   ]
  },
  {
   "cell_type": "raw",
   "metadata": {},
   "source": [
    "Now, let's assign a service ticket to Joe so he can fix the freezer.  \n",
    "1. Assign Ticket to Joe\n",
    "2. Joe to fix the freezer"
   ]
  },
  {
   "cell_type": "code",
   "execution_count": null,
   "metadata": {
    "scrolled": true
   },
   "outputs": [],
   "source": [
    "%%gremlin\n",
    "g.V('9').addE('assigned').to(g.V('3')).next()\n",
    "g.V('3').addE('fix').to(g.V('6'))"
   ]
  },
  {
   "cell_type": "markdown",
   "metadata": {},
   "source": [
    "# Performing queries as an Analyst"
   ]
  },
  {
   "cell_type": "markdown",
   "metadata": {},
   "source": [
    "Now that the asset management platform has been constructed, an analysts can run the following queries to gain insight and drive additional revenue for ACME corporation:\n",
    "\n",
    "**1. Who are the top customers that would benefit from a ‘gold’ service contract?**"
   ]
  },
  {
   "cell_type": "markdown",
   "metadata": {},
   "source": [
    " To answer this quesiton, we want to traverse the graph and get all the 'silver' customers who have purchased a product with more than 3 defects.  Customers who have lots of defects should upgrade to 'Gold' status to get faster service."
   ]
  },
  {
   "cell_type": "code",
   "execution_count": null,
   "metadata": {},
   "outputs": [],
   "source": [
    "%%gremlin\n",
    "g.V().hasLabel('contract', 'type', 'silver').inE('support').outV().outE('employs').inV()\n",
    ".hasLabel('customer').out('purchased').values('defectCount').is(gt('1'))"
   ]
  },
  {
   "cell_type": "raw",
   "metadata": {},
   "source": [
    "The result above shows that there is a silver customer with 4 defects who can benefit from upgading their silver contract to gold.  \n",
    "\n",
    "Let's find out the 'path' to get to that customer in Neptune."
   ]
  },
  {
   "cell_type": "code",
   "execution_count": null,
   "metadata": {},
   "outputs": [],
   "source": [
    "%%gremlin\n",
    "g.V().hasLabel('contract', 'type', 'silver').inE('support').outV().outE('employs').inV()\n",
    ".hasLabel('customer').out('purchased').values('defectCount').is(gt('1')).path()"
   ]
  },
  {
   "cell_type": "raw",
   "metadata": {},
   "source": [
    "The resutl above shows the path (going from vertex 8 (service contract), to the (support) edge, then to vertex 1 (ACME), then to 'employs' edge, to customer vertex 2 (john) and finally  all the way to Vertex 6 (freezer), with four defects at vertex 6.\n",
    "\n",
    "Let's make is super easy for the analyst and get the name of the company who would benefit from the gold contract."
   ]
  },
  {
   "cell_type": "code",
   "execution_count": null,
   "metadata": {},
   "outputs": [],
   "source": [
    "%%gremlin\n",
    "g.V().hasLabel('contract', 'type', 'silver').inE('support').outV().as('company').outE('employs').inV()\n",
    ".hasLabel('customer').out('purchased').values('defectCount').is(gt('1')).path().from('company').to('company').by('name')"
   ]
  },
  {
   "cell_type": "markdown",
   "metadata": {},
   "source": [
    "The result above shows that ACME corporation  can benefit from upgading their silver contract to gold.  The upgarde to gold can result in additional revenue !"
   ]
  },
  {
   "cell_type": "markdown",
   "metadata": {},
   "source": [
    "**2. Challenge Question: What other forensic labs can we target to purchase a DNA Sequencer ?**\n",
    "\n",
    "Hint: <br/>\n",
    "<br/>(1) Create additional vertices - ABC Lab and Forensic Labs\n",
    "<br/>(2) Create Edge between ABC Lab and its parent company Forensic Labs\n",
    "<br/>(3) Establish an edge between Forensic Lab and ACME corporation\n",
    "<br/>(4) Write the Gremline query to retrieve all 'organizations' that have not purchased a QuantStudio - start at Forensic Lab vertex.\n"
   ]
  },
  {
   "cell_type": "markdown",
   "metadata": {},
   "source": [
    "# Cleanup\n",
    "**TO delete your graph, run the following command**\n",
    "<br/>Note: This does not stop/terminate your neptune cluster.  You will have to stop/terminate your cluster from AWS neptune console or AWS CLI."
   ]
  },
  {
   "cell_type": "code",
   "execution_count": null,
   "metadata": {},
   "outputs": [],
   "source": [
    "%%gremlin\n",
    "g.V().drop().iterate()"
   ]
  }
 ],
 "metadata": {
  "kernelspec": {
   "display_name": "Python 3",
   "language": "python",
   "name": "python3"
  },
  "language_info": {
   "codemirror_mode": {
    "name": "ipython",
    "version": 3
   },
   "file_extension": ".py",
   "mimetype": "text/x-python",
   "name": "python",
   "nbconvert_exporter": "python",
   "pygments_lexer": "ipython3",
   "version": "3.6.6"
  }
 },
 "nbformat": 4,
 "nbformat_minor": 2
}
